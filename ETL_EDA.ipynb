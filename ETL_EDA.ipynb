{
 "cells": [
  {
   "cell_type": "markdown",
   "metadata": {},
   "source": [
    "# ETL_EDA\n",
    "This file records the process of acquiring raw data, traforming them, and loading them into a MongoDB. The data are store (almost) in their raw form."
   ]
  },
  {
   "cell_type": "markdown",
   "metadata": {},
   "source": [
    "## 1. Raw Data from BPA \n",
    "The [dataset](https://transmission.bpa.gov/business/operations/Wind/baltwg.txt) is a continuously updated txt file in csv format. It contains the energy producation and load in the last 5 days. There will be some blank lines at the end for today. It can be retrieved simply by making `requests` without parameters. For more complicated API call, you may need to add query parameters."
   ]
  },
  {
   "cell_type": "code",
   "execution_count": 1,
   "metadata": {},
   "outputs": [
    {
     "name": "stdout",
     "output_type": "stream",
     "text": [
      "BPA Balancing Authority Load & Total Wind Generation\r\n",
      "at 5-minute intervals, last 7 days\r\n",
      "Dates: 20Nov2019 - 27Nov2019 (last updated 26Nov2019 06:35:46) Pacific Time\r\n",
      "Based on 5-min MW readings from the BPA SCADA system for points 45583, 79687, 79682, 164377, 70681\r\n",
      "\r\n",
      "This represents loads and resources in BPA's Balancing Authority (BA) including some that are not BPA's.\r\n",
      "It does not include BPA loads served by transfer, scheduled out of region,\r\n",
      "or scheduled to customers with their own BAs such as Seattle and Tacoma\r\n",
      "\r\n",
      "BPA/Technical Operations (TOT-OpInfo@bpa.gov)\r\n",
      "\r\n",
      "Date/Time       \tLoad\tWind\tHydro\tFossil/Biomass\tNuclear\r\n",
      "11/20/2019 00:00\t5657\t272\t5261\t970\t1163\r\n",
      "11/20/2019 00:05\t5659\t275\t5348\t971\t1170\r\n",
      "11/20/2019 00:10\t5616\t284\t5360\t971\t1163\r\n",
      "11/20/2019 00:15\t5688\t277\t5402\t975\t1163\r\n",
      "11/20/2019 00:20\t5693\t259\t5403\t973\t1165\r\n",
      "11/20/2019 00:25\t5661\t253\t5407\t975\t1164\r\n",
      "11/20/2019 00:30\t5659\t257\t5400\t976\t1164\r\n",
      "11/20/2019 00:35\t5651\t268\t5377\t975\t1163\r\n",
      "11/20/2019 00:40\t5649\t267\t5389\t975\t1167\r\n",
      "...\n",
      "2019 22:10\t\t\t\t\t\r\n",
      "11/26/2019 22:15\t\t\t\t\t\r\n",
      "11/26/2019 22:20\t\t\t\t\t\r\n",
      "11/26/2019 22:25\t\t\t\t\t\r\n",
      "11/26/2019 22:30\t\t\t\t\t\r\n",
      "11/26/2019 22:35\t\t\t\t\t\r\n",
      "11/26/2019 22:40\t\t\t\t\t\r\n",
      "11/26/2019 22:45\t\t\t\t\t\r\n",
      "11/26/2019 22:50\t\t\t\t\t\r\n",
      "11/26/2019 22:55\t\t\t\t\t\r\n",
      "11/26/2019 23:00\t\t\t\t\t\r\n",
      "11/26/2019 23:05\t\t\t\t\t\r\n",
      "11/26/2019 23:10\t\t\t\t\t\r\n",
      "11/26/2019 23:15\t\t\t\t\t\r\n",
      "11/26/2019 23:20\t\t\t\t\t\r\n",
      "11/26/2019 23:25\t\t\t\t\t\r\n",
      "11/26/2019 23:30\t\t\t\t\t\r\n",
      "11/26/2019 23:35\t\t\t\t\t\r\n",
      "11/26/2019 23:40\t\t\t\t\t\r\n",
      "11/26/2019 23:45\t\t\t\t\t\r\n",
      "11/26/2019 23:50\t\t\t\t\t\r\n",
      "11/26/2019 23:55\t\t\t\t\t\r\n",
      "\n"
     ]
    }
   ],
   "source": [
    "import requests\n",
    "\n",
    "url = \"https://transmission.bpa.gov/business/operations/Wind/baltwg.txt\"\n",
    "# this is a very simple url\n",
    "# if not, concate and do the same thing\n",
    "req = requests.get(url, timeout=0.5)\n",
    "req.raise_for_status()\n",
    "text = req.text\n",
    "print(text[:1000])\n",
    "print('...')\n",
    "print(text[-500:])"
   ]
  },
  {
   "cell_type": "markdown",
   "metadata": {},
   "source": [
    "## 2. Raw Data to Documents/Dicts\n",
    "Using pandas, it is simple to parse a in-memory string. The first few lines of description need to be skipped. Datetime conversion is made and blank lines are dropped. Now the data can be easily converted to a list of dicts which is what we want for the MongoDB."
   ]
  },
  {
   "cell_type": "code",
   "execution_count": 2,
   "metadata": {},
   "outputs": [
    {
     "data": {
      "text/html": [
       "<div>\n",
       "<style scoped>\n",
       "    .dataframe tbody tr th:only-of-type {\n",
       "        vertical-align: middle;\n",
       "    }\n",
       "\n",
       "    .dataframe tbody tr th {\n",
       "        vertical-align: top;\n",
       "    }\n",
       "\n",
       "    .dataframe thead th {\n",
       "        text-align: right;\n",
       "    }\n",
       "</style>\n",
       "<table border=\"1\" class=\"dataframe\">\n",
       "  <thead>\n",
       "    <tr style=\"text-align: right;\">\n",
       "      <th></th>\n",
       "      <th>Load</th>\n",
       "      <th>Wind</th>\n",
       "      <th>Hydro</th>\n",
       "      <th>Fossil/Biomass</th>\n",
       "      <th>Nuclear</th>\n",
       "      <th>Datetime</th>\n",
       "    </tr>\n",
       "  </thead>\n",
       "  <tbody>\n",
       "    <tr>\n",
       "      <th>0</th>\n",
       "      <td>5657.0</td>\n",
       "      <td>272.0</td>\n",
       "      <td>5261.0</td>\n",
       "      <td>970.0</td>\n",
       "      <td>1163.0</td>\n",
       "      <td>2019-11-20 00:00:00</td>\n",
       "    </tr>\n",
       "    <tr>\n",
       "      <th>1</th>\n",
       "      <td>5659.0</td>\n",
       "      <td>275.0</td>\n",
       "      <td>5348.0</td>\n",
       "      <td>971.0</td>\n",
       "      <td>1170.0</td>\n",
       "      <td>2019-11-20 00:05:00</td>\n",
       "    </tr>\n",
       "    <tr>\n",
       "      <th>2</th>\n",
       "      <td>5616.0</td>\n",
       "      <td>284.0</td>\n",
       "      <td>5360.0</td>\n",
       "      <td>971.0</td>\n",
       "      <td>1163.0</td>\n",
       "      <td>2019-11-20 00:10:00</td>\n",
       "    </tr>\n",
       "    <tr>\n",
       "      <th>3</th>\n",
       "      <td>5688.0</td>\n",
       "      <td>277.0</td>\n",
       "      <td>5402.0</td>\n",
       "      <td>975.0</td>\n",
       "      <td>1163.0</td>\n",
       "      <td>2019-11-20 00:15:00</td>\n",
       "    </tr>\n",
       "    <tr>\n",
       "      <th>4</th>\n",
       "      <td>5693.0</td>\n",
       "      <td>259.0</td>\n",
       "      <td>5403.0</td>\n",
       "      <td>973.0</td>\n",
       "      <td>1165.0</td>\n",
       "      <td>2019-11-20 00:20:00</td>\n",
       "    </tr>\n",
       "  </tbody>\n",
       "</table>\n",
       "</div>"
      ],
      "text/plain": [
       "     Load   Wind   Hydro  Fossil/Biomass  Nuclear            Datetime\n",
       "0  5657.0  272.0  5261.0           970.0   1163.0 2019-11-20 00:00:00\n",
       "1  5659.0  275.0  5348.0           971.0   1170.0 2019-11-20 00:05:00\n",
       "2  5616.0  284.0  5360.0           971.0   1163.0 2019-11-20 00:10:00\n",
       "3  5688.0  277.0  5402.0           975.0   1163.0 2019-11-20 00:15:00\n",
       "4  5693.0  259.0  5403.0           973.0   1165.0 2019-11-20 00:20:00"
      ]
     },
     "execution_count": 2,
     "metadata": {},
     "output_type": "execute_result"
    }
   ],
   "source": [
    "import pandas\n",
    "from io import StringIO\n",
    "\n",
    "df = pandas.read_csv(StringIO(text), skiprows=11, delimiter='\\t') # we need to check what delimiters are used in the data\n",
    "df.columns = df.columns.str.strip()             # remove space in columns name\n",
    "df['Datetime'] = pandas.to_datetime(df['Date/Time'])\n",
    "df.drop(columns=['Date/Time'], axis=1, inplace=True)\n",
    "df.dropna(inplace=True)  \n",
    "df.head()"
   ]
  },
  {
   "cell_type": "markdown",
   "metadata": {},
   "source": [
    "## 3. Upsert MongoDB\n",
    "If we fetch the data frequently, there are lots of duplicate data entry between each run. The de-duplication happens at insertion. The MongoDB API to use is `collection.replace_one(filter=..., replacement=..., upsert=True)`. The statement matches a document in MongoDB with `filter`, replaces it with `replacement` if the document exists or inserts `replacement` into the database if `filter` matches nothing. "
   ]
  },
  {
   "cell_type": "code",
   "execution_count": 3,
   "metadata": {},
   "outputs": [],
   "source": [
    "import pymongo\n",
    "\n",
    "client = pymongo.MongoClient()"
   ]
  },
  {
   "cell_type": "code",
   "execution_count": 21,
   "metadata": {},
   "outputs": [
    {
     "name": "stdout",
     "output_type": "stream",
     "text": [
      "rows=1936, update=1928, insert=8\n"
     ]
    }
   ],
   "source": [
    "db = client.get_database(\"energy\")\n",
    "collection = db.get_collection(\"energy\")\n",
    "update_count = 0\n",
    "for record in df.to_dict('records'):\n",
    "    result = collection.replace_one(\n",
    "        filter={'Datetime': record['Datetime']},    # locate the document if exists\n",
    "        replacement=record,                         # latest document\n",
    "        upsert=True)                                # update if exists, insert if not\n",
    "    if result.matched_count > 0:\n",
    "        update_count += 1\n",
    "print(f\"rows={df.shape[0]}, update={update_count}, \"\n",
    "      f\"insert={df.shape[0]-update_count}\")"
   ]
  }
 ],
 "metadata": {
  "kernelspec": {
   "display_name": "Python 3",
   "language": "python",
   "name": "python3"
  },
  "language_info": {
   "codemirror_mode": {
    "name": "ipython",
    "version": 3
   },
   "file_extension": ".py",
   "mimetype": "text/x-python",
   "name": "python",
   "nbconvert_exporter": "python",
   "pygments_lexer": "ipython3",
   "version": "3.7.4"
  }
 },
 "nbformat": 4,
 "nbformat_minor": 1
}
